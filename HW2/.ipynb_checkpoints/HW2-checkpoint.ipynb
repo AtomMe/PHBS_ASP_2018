{
 "cells": [
  {
   "cell_type": "markdown",
   "metadata": {},
   "source": [
    "# HW 2: Corporate Bond Pricing (due by 9.21 Fri)"
   ]
  },
  {
   "cell_type": "markdown",
   "metadata": {},
   "source": [
    "We are going to compute the price of a corporate bond (subject to default) with Monte-Carlo simulation. Assume that \n",
    "* the default time of a company follows the exponential distribution with intensity $\\lambda=$__`def_rate`__. \n",
    "* the riskfree interest rate is $r_f=$__`rf_rate`__ and the maturity of the bond is $T=$__`mat`__. \n",
    "* in the case of default, you can recover some portion ($R=$__`recovery_rate`__) of the face value.\n",
    "* the coupon is 0%, i.e., it is a zero-coupon bond.\n",
    "* the face value of the bond is 1.0\n",
    "* use compound rate for discounting; the price of the default-free bond is $e^{-r_f T}$\n",
    "\n",
    "The Problem 1 of the [2017 ASP Midterm Exam](../files/ASP2017_Midterm.pdf) will be helpful.\n",
    "\n",
    "### Instruction to upload your HW\n",
    "* Create a repository named __`PHBS_ASP_2018`__ (and clone it to your PC)\n",
    "* Copy this file to __`PHBS_ASP_2018/HW2/HW2.ipynb`__  (Please use the same name for repository and ipynb file)\n",
    "* Adding more code.\n",
    "* Run your your code to make sure that there's no error.\n",
    "* Upload (commit and sync) your file."
   ]
  },
  {
   "cell_type": "markdown",
   "metadata": {},
   "source": [
    "### 1. First, let's create a pricing function and check the std "
   ]
  },
  {
   "cell_type": "code",
   "execution_count": 2,
   "metadata": {},
   "outputs": [],
   "source": [
    "import numpy as np"
   ]
  },
  {
   "cell_type": "code",
   "execution_count": 3,
   "metadata": {},
   "outputs": [],
   "source": [
    "def_rate = 0.1\n",
    "rf_rate = 0.03\n",
    "recovery = 0.3\n",
    "mat = 10"
   ]
  },
  {
   "cell_type": "markdown",
   "metadata": {},
   "source": []
  },
  {
   "cell_type": "code",
   "execution_count": 4,
   "metadata": {},
   "outputs": [
    {
     "data": {
      "text/plain": [
       "(10.135261932128932, 10.0)"
      ]
     },
     "execution_count": 4,
     "metadata": {},
     "output_type": "execute_result"
    }
   ],
   "source": [
    "# First generate exponential random numbers\n",
    "# Although you can generate directly using fault_time = np.random.exponential(scale=), let's use uniform random numbers.\n",
    "n_sample = 10000\n",
    "U = np.random.uniform(size=n_sample)\n",
    "default_time = -(1/def_rate)*np.log(U)\n",
    "\n",
    "# You can check if the RNs are correct by comparing the means\n",
    "(default_time.mean(), 1/def_rate)"
   ]
  },
  {
   "cell_type": "markdown",
   "metadata": {},
   "source": [
    "The bond price\n",
    "\n",
    "$$E[price]= \\frac{\\sum\\limits_{t_d > T}^Ne^{-r_f T}+\\sum\\limits_{t_d < T}^NRe^{-r_f t_d}}{N}$$\n",
    "\n",
    "Where $ N $ is the total number of sample."
   ]
  },
  {
   "cell_type": "code",
   "execution_count": 11,
   "metadata": {},
   "outputs": [
    {
     "name": "stdout",
     "output_type": "stream",
     "text": [
      "mean: 0.941233251055675 standard deviation: 0.0009679493388208106\n"
     ]
    }
   ],
   "source": [
    "# Put your code here to price the corporate bond\n",
    "\n",
    "def corp_bond(mat=1, def_rate=0.03, rf_rate=0.04, recovery=0.3, n_sample=10000):\n",
    "    ### generate a sequence of default time\n",
    "    U = np.random.uniform(size=n_sample)\n",
    "    default_time = -(1/def_rate)*np.log(U)\n",
    "    ### if default_time < mat, then the end_value is recovery;otherwise, 1.\n",
    "    expected_value = 0\n",
    "    default_n = sum(default_time < mat)\n",
    "    for i in range(n_sample):\n",
    "        if(default_time[i] < mat):\n",
    "            expected_value += recovery*np.exp(-rf_rate*(default_time[i]))\n",
    "    \n",
    "    expected_value += (n_sample-default_n)*np.exp(-rf_rate*mat)\n",
    "\n",
    "    ### divide by n_sample \n",
    "    expected_value = expected_value/n_sample\n",
    "    return expected_value\n",
    "\n",
    "# Call your function\n",
    "corp_bond()\n",
    "\n",
    "# Find the mean and std by calling the function 100 times. \n",
    "simulated_time = 100\n",
    "bond_price_set = []\n",
    "for i in range(simulated_time):\n",
    "    bond_price_set.append(corp_bond())\n",
    "\n",
    "\n",
    "print('mean:',np.mean(bond_price_set),'standard deviation:',np.std(bond_price_set))"
   ]
  },
  {
   "cell_type": "markdown",
   "metadata": {},
   "source": [
    "### 2. Now, let's improve the function by reducing the MC variations.\n",
    "1. Use antithetic method: If `U` is uniform random variable, so is `1-U`\n",
    "2. Also shift the RNs to match the mean, `1/def_rate`"
   ]
  },
  {
   "cell_type": "code",
   "execution_count": 46,
   "metadata": {},
   "outputs": [],
   "source": [
    "# For example, antithetic method mean\n",
    "n_sample = 10000\n",
    "U = np.random.uniform(size=n_sample)\n",
    "default_time = -(1/def_rate)*np.log(np.concatenate((U,1-U),axis=0))"
   ]
  },
  {
   "cell_type": "code",
   "execution_count": 50,
   "metadata": {},
   "outputs": [
    {
     "data": {
      "text/plain": [
       "(9.999999999999998, 10.0)"
      ]
     },
     "execution_count": 50,
     "metadata": {},
     "output_type": "execute_result"
    }
   ],
   "source": [
    "# For example, antithetic method mean\n",
    "# the n_sample should be set as n_sample/2 to correspond to the previous method.\n",
    "n_sample = 5000\n",
    "U = np.random.uniform(size=n_sample)\n",
    "default_time = -(1/def_rate)*np.log(np.concatenate((U,1-U),axis=0))\n",
    "\n",
    "# Mean-matching means\n",
    "default_time += 1/def_rate-default_time.mean()\n",
    "(default_time.mean(), 1/def_rate)"
   ]
  },
  {
   "cell_type": "code",
   "execution_count": 8,
   "metadata": {},
   "outputs": [],
   "source": [
    "# No include the two new features: `antithetic` and `mean_match`\n",
    "\n",
    "def corp_bond_cv(mat=1, def_rate=0.03, rf_rate=0.04, recovery=0.3, n_sample=10000, antithetic=True, mean_match=True):\n",
    "    ### <--\n",
    "    if(antithetic):\n",
    "        # the n_sample should be set as n_sample/2 to correspond to the previous method.\n",
    "        m_sample = np.int(n_sample/2)\n",
    "        U = np.random.uniform(size=m_sample)\n",
    "        default_time = -(1/def_rate)*np.log(np.concatenate((U,1-U),axis=0))\n",
    "        expected_value = 0\n",
    "        default_n = sum(default_time < mat)\n",
    "        for i in range(n_sample):\n",
    "            if(default_time[i] < mat):\n",
    "                expected_value += recovery*np.exp(-rf_rate*(default_time[i]))\n",
    "    \n",
    "        expected_value += (n_sample-default_n)*np.exp(-rf_rate*mat)\n",
    "        ### divide by n_sample \n",
    "        expected_value = expected_value/n_sample\n",
    "        \n",
    "    if(mean_match):\n",
    "        ### generate a sequence of default time\n",
    "        U = np.random.uniform(size=n_sample)\n",
    "        default_time = -(1/def_rate)*np.log(U)\n",
    "        default_time += 1/def_rate-default_time.mean()\n",
    "        ### if default_time < mat, then the end_value is recovery;otherwise, 1.\n",
    "        expected_value = 0\n",
    "        default_n = sum(default_time < mat)\n",
    "        for i in range(n_sample):\n",
    "            if(default_time[i] < mat):\n",
    "                expected_value += recovery*np.exp(-rf_rate*(default_time[i]))\n",
    "    \n",
    "        expected_value += (n_sample-default_n)*np.exp(-rf_rate*mat)\n",
    "        ### divide by n_sample \n",
    "        expected_value = expected_value/n_sample\n",
    "        \n",
    "    if(antithetic and mean_match):\n",
    "        m_sample = np.int(n_sample/2)\n",
    "        U = np.random.uniform(size=m_sample)\n",
    "        default_time = -(1/def_rate)*np.log(np.concatenate((U,1-U),axis=0))\n",
    "        default_time += 1/def_rate-default_time.mean()\n",
    "        expected_value = 0\n",
    "        default_n = sum(default_time < mat)\n",
    "        for i in range(n_sample):\n",
    "            if(default_time[i] < mat):\n",
    "                expected_value += recovery*np.exp(-rf_rate*(default_time[i]))\n",
    "    \n",
    "        expected_value += (n_sample-default_n)*np.exp(-rf_rate*mat)\n",
    "        ### divide by n_sample \n",
    "        expected_value = expected_value/n_sample\n",
    "    ### <--\n",
    "    return expected_value"
   ]
  },
  {
   "cell_type": "code",
   "execution_count": 12,
   "metadata": {},
   "outputs": [
    {
     "name": "stdout",
     "output_type": "stream",
     "text": [
      "antithetic\n",
      "mean: 0.9410149578782518 standard deviation: 0.0012005756323053352\n",
      "mean_match\n",
      "mean: 0.9410805330289098 standard deviation: 0.006101707947077368\n",
      "both\n",
      "mean: 0.9402748353059239 standard deviation: 0.005035731456587768\n"
     ]
    }
   ],
   "source": [
    "# Find the mean and std by calling the function 100 times for (i) antithetic (ii) mean_match and (iii) both\n",
    "simulated_time = 100\n",
    "antithetic_price_set = []\n",
    "mean_match_price_set = []\n",
    "both_price_set = []\n",
    "for i in range(simulated_time):\n",
    "    #antithetic\n",
    "    antithetic_price_set.append(corp_bond_cv(mean_match=False))\n",
    "    #mean_match\n",
    "    mean_match_price_set.append(corp_bond_cv(antithetic=False))\n",
    "    #mean_match\n",
    "    both_price_set.append(corp_bond_cv())\n",
    "\n",
    "print('antithetic')\n",
    "print('mean:',np.mean(antithetic_price_set),'standard deviation:',np.std(antithetic_price_set))\n",
    "print('mean_match')\n",
    "print('mean:',np.mean(mean_match_price_set),'standard deviation:',np.std(mean_match_price_set))\n",
    "print('both')\n",
    "print('mean:',np.mean(both_price_set),'standard deviation:',np.std(both_price_set))\n"
   ]
  },
  {
   "cell_type": "markdown",
   "metadata": {
    "collapsed": true
   },
   "source": [
    "### 3. Finally, what is the analytic value of the corporate bond? How does it compare to your MC result above?"
   ]
  },
  {
   "cell_type": "code",
   "execution_count": 13,
   "metadata": {
    "collapsed": true
   },
   "outputs": [],
   "source": [
    "### Put the analytic expression for the corporate bond price"
   ]
  },
  {
   "cell_type": "markdown",
   "metadata": {},
   "source": [
    "CDF for Poisson  distribution\n",
    "\n",
    "$$f(t)=\\lambda e^ {-\\lambda t}$$\n",
    "\n",
    "\n",
    "The price of the bond mature at T\n",
    "\n",
    "$$ p={e}^{-r_fT}{e}^{-\\lambda T}+\\int_0^TR{e}^{-r_ft}{\\lambda}{e}^{-\\lambda t}{d}t $$\n",
    "\n",
    "Where $ \\int_0^TR{e}^{-r_ft}{\\lambda}{e}^{-\\lambda t}{d}t = \\frac{R}{r_f+\\lambda}(1-{e}^{-(r_f+\\lambda) T})$.\n",
    " So,the analytic expression for the corporate bond price is\n",
    "\n",
    "$$ p={e}^{-r_fT}{e}^{-\\lambda T}+\\frac{R \\lambda}{r_f+\\lambda}(1-{e}^{-(r_f+\\lambda) T}) $$"
   ]
  },
  {
   "cell_type": "code",
   "execution_count": 10,
   "metadata": {},
   "outputs": [
    {
     "name": "stdout",
     "output_type": "stream",
     "text": [
      "The analytic result is: 0.9410860430608978\n"
     ]
    }
   ],
   "source": [
    "# define a function to get the analytic result\n",
    "def analytic_result(mat=1, def_rate=0.03, rf_rate=0.04, recovery=0.3):\n",
    "    b_p = np.exp(-(rf_rate+def_rate)*mat)\n",
    "    p = b_p + recovery*def_rate/(rf_rate+def_rate)*(1-b_p)\n",
    "    \n",
    "    return p\n",
    "print('The analytic result is:',analytic_result())"
   ]
  },
  {
   "cell_type": "markdown",
   "metadata": {},
   "source": [
    "### Conclusion\n",
    "* The analytic result is very colse to the MC result.\n",
    "* The result with mean-match method is closer to the analytic's than others."
   ]
  },
  {
   "cell_type": "code",
   "execution_count": null,
   "metadata": {},
   "outputs": [],
   "source": []
  }
 ],
 "metadata": {
  "anaconda-cloud": {},
  "kernelspec": {
   "display_name": "Python 3",
   "language": "python",
   "name": "python3"
  },
  "language_info": {
   "codemirror_mode": {
    "name": "ipython",
    "version": 3
   },
   "file_extension": ".py",
   "mimetype": "text/x-python",
   "name": "python",
   "nbconvert_exporter": "python",
   "pygments_lexer": "ipython3",
   "version": "3.6.5"
  }
 },
 "nbformat": 4,
 "nbformat_minor": 1
}
